{
 "cells": [
  {
   "cell_type": "markdown",
   "metadata": {},
   "source": [
    "Eric Reece - 2/10/2021 \n",
    "*** Input / Output ***\n",
    "\n",
    "** Basic file operation:\n",
    "    To create a text file using jupyter notebook, it's a simple line seen in the first cell.\n",
    "    To open said file, set a variable equal to open('example.txt').\n",
    "    To read the file, use file.read() and it will print the contents of the file.\n",
    "        After a file is read, the cursor essentially moves to the end of the file, so if read again, it will\n",
    "        produce an empty string. Use the seek(0) method to return to the beginning of the file\n",
    "    To print the working directory, use pwd in a cell.\n",
    "    To see content printed with line breaks as is on the file, use readlines() on the file.\n",
    "    \n",
    "    Remember to always close the file after finished using \n",
    "    An additional way to open and read a file would be to use the 'with' method, seen below the file path example\n",
    "** File location operation:\n",
    "To work on a file in a specific directory, provide the path to the file and use \\\\ in the path so Python won't\n",
    "treat the first \\ as an escape character.\n",
    "\n",
    "\n",
    "** File modes:\n",
    "    mode='r' is read only\n",
    "    mode='w' is write only (overwrites files or creates a new file)\n",
    "    mode='a' is to apped files (adds onto existing file)\n",
    "    mode='r+' is reading and writing\n",
    "    mode='w+' is writing and reading (overwrites existing file or creates new file)\n",
    "    "
   ]
  },
  {
   "cell_type": "code",
   "execution_count": 97,
   "metadata": {},
   "outputs": [
    {
     "name": "stdout",
     "output_type": "stream",
     "text": [
      "Overwriting myfile.txt\n"
     ]
    }
   ],
   "source": [
    "\n",
    "%%writefile myfile.txt\n",
    "ONE\n",
    "TWO\n",
    "THREE\n"
   ]
  },
  {
   "cell_type": "code",
   "execution_count": 98,
   "metadata": {},
   "outputs": [],
   "source": [
    "# Opening the written file for access\n",
    "file = open('myfile.txt')"
   ]
  },
  {
   "cell_type": "code",
   "execution_count": 99,
   "metadata": {},
   "outputs": [
    {
     "data": {
      "text/plain": [
       "'ONE\\nTWO\\nTHREE\\n'"
      ]
     },
     "execution_count": 99,
     "metadata": {},
     "output_type": "execute_result"
    }
   ],
   "source": [
    "# Printing contents of the file without line breaks\n",
    "file.read()"
   ]
  },
  {
   "cell_type": "code",
   "execution_count": 100,
   "metadata": {},
   "outputs": [
    {
     "data": {
      "text/plain": [
       "'C:\\\\Users\\\\slaye\\\\UdemyCourse'"
      ]
     },
     "execution_count": 100,
     "metadata": {},
     "output_type": "execute_result"
    }
   ],
   "source": [
    "pwd"
   ]
  },
  {
   "cell_type": "code",
   "execution_count": 101,
   "metadata": {},
   "outputs": [
    {
     "data": {
      "text/plain": [
       "0"
      ]
     },
     "execution_count": 101,
     "metadata": {},
     "output_type": "execute_result"
    }
   ],
   "source": [
    "# Resets the cursor to the beiginning of the file\n",
    "file.seek(0)"
   ]
  },
  {
   "cell_type": "code",
   "execution_count": 102,
   "metadata": {},
   "outputs": [],
   "source": [
    "# Saving contents of the text file to a variable 'content'\n",
    "content = file.read()"
   ]
  },
  {
   "cell_type": "code",
   "execution_count": 103,
   "metadata": {},
   "outputs": [
    {
     "data": {
      "text/plain": [
       "'ONE\\nTWO\\nTHREE\\n'"
      ]
     },
     "execution_count": 103,
     "metadata": {},
     "output_type": "execute_result"
    }
   ],
   "source": [
    "content"
   ]
  },
  {
   "cell_type": "code",
   "execution_count": 104,
   "metadata": {},
   "outputs": [
    {
     "data": {
      "text/plain": [
       "['ONE\\n', 'TWO\\n', 'THREE\\n']"
      ]
     },
     "execution_count": 104,
     "metadata": {},
     "output_type": "execute_result"
    }
   ],
   "source": [
    "# Printing the contents of the text file with line breaks\n",
    "file.seek(0)\n",
    "file.readlines()"
   ]
  },
  {
   "cell_type": "code",
   "execution_count": 105,
   "metadata": {},
   "outputs": [],
   "source": [
    "file.close()"
   ]
  },
  {
   "cell_type": "code",
   "execution_count": 106,
   "metadata": {},
   "outputs": [],
   "source": [
    "# Specifying a path for the file to be found and opened:\n",
    "newfile = open('C:\\\\Users\\\\slaye\\\\OneDrive\\\\Documents\\\\myfile.txt')"
   ]
  },
  {
   "cell_type": "code",
   "execution_count": 107,
   "metadata": {},
   "outputs": [
    {
     "data": {
      "text/plain": [
       "'hello\\n'"
      ]
     },
     "execution_count": 107,
     "metadata": {},
     "output_type": "execute_result"
    }
   ],
   "source": [
    "newfile.read()"
   ]
  },
  {
   "cell_type": "code",
   "execution_count": 108,
   "metadata": {},
   "outputs": [],
   "source": [
    "newfile.close()"
   ]
  },
  {
   "cell_type": "code",
   "execution_count": 109,
   "metadata": {},
   "outputs": [],
   "source": [
    "# Using this method removes the burden of closing a file once it's done being used.\n",
    "# Opens the file, can use file path, and saves file as a string variable\n",
    "with open('myfile.txt') as new_file:\n",
    "    contents = new_file.read()"
   ]
  },
  {
   "cell_type": "code",
   "execution_count": 110,
   "metadata": {},
   "outputs": [
    {
     "data": {
      "text/plain": [
       "'ONE\\nTWO\\nTHREE\\n'"
      ]
     },
     "execution_count": 110,
     "metadata": {},
     "output_type": "execute_result"
    }
   ],
   "source": [
    "contents"
   ]
  },
  {
   "cell_type": "code",
   "execution_count": 111,
   "metadata": {},
   "outputs": [
    {
     "name": "stdout",
     "output_type": "stream",
     "text": [
      "ONE\n",
      "TWO\n",
      "THREE\n",
      "\n"
     ]
    }
   ],
   "source": [
    "# Opening and closing a file to read, printing its contents:\n",
    "\n",
    "with open('myfile.txt',mode='r') as new_file:\n",
    "    print(new_file.read())"
   ]
  },
  {
   "cell_type": "code",
   "execution_count": 112,
   "metadata": {},
   "outputs": [],
   "source": [
    "# Opening and closing a file to add (append) a line\n",
    "with open('myfile.txt',mode='a') as new_file:\n",
    "    new_file.write('FOUR')"
   ]
  },
  {
   "cell_type": "code",
   "execution_count": 113,
   "metadata": {},
   "outputs": [
    {
     "name": "stdout",
     "output_type": "stream",
     "text": [
      "ONE\n",
      "TWO\n",
      "THREE\n",
      "FOUR\n"
     ]
    }
   ],
   "source": [
    "with open('myfile.txt',mode='r') as new_file:\n",
    "    print(new_file.read())"
   ]
  },
  {
   "cell_type": "code",
   "execution_count": null,
   "metadata": {},
   "outputs": [],
   "source": []
  }
 ],
 "metadata": {
  "kernelspec": {
   "display_name": "Python 3",
   "language": "python",
   "name": "python3"
  },
  "language_info": {
   "codemirror_mode": {
    "name": "ipython",
    "version": 3
   },
   "file_extension": ".py",
   "mimetype": "text/x-python",
   "name": "python",
   "nbconvert_exporter": "python",
   "pygments_lexer": "ipython3",
   "version": "3.8.5"
  }
 },
 "nbformat": 4,
 "nbformat_minor": 4
}
