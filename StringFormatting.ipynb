{
 "cells": [
  {
   "cell_type": "markdown",
   "metadata": {},
   "source": [
    "Eric Reece - 1/26/2021 - String Formatting \n",
    "\n",
    "String interpolation - There exist multiple methods of formatting strings for variable printing\n",
    "- .format(): inserts a string where curly braces detected ({}), add to the end    of the string and provide data.\n",
    "\n",
    "   float formatting:\n",
    "       pass a value into a string, formatting = {value:width.precision f}\n",
    "- f-strings - formatted string literals ** MY FAVORITE\n",
    "  - skips .format method, inserts value into string\n",
    "  - use print(f'string {}') to pass in variable names, f tells python it's an     f string"
   ]
  },
  {
   "cell_type": "code",
   "execution_count": 2,
   "metadata": {},
   "outputs": [
    {
     "name": "stdout",
     "output_type": "stream",
     "text": [
      "This is a string INSERTED STRING\n"
     ]
    }
   ],
   "source": [
    "# Understanding the .format() method\n",
    "print('This is a string {}'.format('INSERTED STRING'))"
   ]
  },
  {
   "cell_type": "code",
   "execution_count": 5,
   "metadata": {},
   "outputs": [
    {
     "name": "stdout",
     "output_type": "stream",
     "text": [
      "Hello Eric today is Tuesday and it is snowing\n"
     ]
    }
   ],
   "source": [
    "# Using multiple insertions, using index for proper order\n",
    "print('Hello {2} today is {0} and it is {1}'.format('Tuesday', 'snowing', 'Eric'))"
   ]
  },
  {
   "cell_type": "code",
   "execution_count": 6,
   "metadata": {},
   "outputs": [
    {
     "name": "stdout",
     "output_type": "stream",
     "text": [
      "Hello Eric today is Tuesday and it is snowing\n"
     ]
    }
   ],
   "source": [
    "# Using Keyword assignment in .format()\n",
    "print('Hello {n} today is {d} and it is {w}'.format(d ='Tuesday', w = 'snowing', n = 'Eric'))"
   ]
  },
  {
   "cell_type": "code",
   "execution_count": 19,
   "metadata": {},
   "outputs": [],
   "source": [
    "# Using float formatting\n",
    "result = 10/99\n",
    "#result = 104.556"
   ]
  },
  {
   "cell_type": "code",
   "execution_count": 20,
   "metadata": {},
   "outputs": [
    {
     "data": {
      "text/plain": [
       "0.10101010101010101"
      ]
     },
     "execution_count": 20,
     "metadata": {},
     "output_type": "execute_result"
    }
   ],
   "source": [
    "result"
   ]
  },
  {
   "cell_type": "code",
   "execution_count": 21,
   "metadata": {},
   "outputs": [
    {
     "name": "stdout",
     "output_type": "stream",
     "text": [
      "The result without precision is 0.10101010101010101\n",
      "The result is 0.101\n",
      "The result is  0.1010101\n"
     ]
    }
   ],
   "source": [
    "# Precision value determines which value is rounded off\n",
    "print(\"The result without precision is {r}\".format(r = result))\n",
    "print(\"The result is {r:1.3f}\".format(r=result))\n",
    "\n",
    "# Altering the width value from 1 to x increases the white space\n",
    "print(\"The result is {r:10.7f}\".format(r=result))"
   ]
  },
  {
   "cell_type": "code",
   "execution_count": 22,
   "metadata": {},
   "outputs": [],
   "source": [
    "# Using f-strings; formatted string literals\n",
    "name = \"Eric\""
   ]
  },
  {
   "cell_type": "code",
   "execution_count": 25,
   "metadata": {},
   "outputs": [
    {
     "name": "stdout",
     "output_type": "stream",
     "text": [
      "Hello, my name is Eric\n"
     ]
    }
   ],
   "source": [
    "print(f'Hello, my name is {name}')"
   ]
  },
  {
   "cell_type": "code",
   "execution_count": 26,
   "metadata": {},
   "outputs": [],
   "source": [
    "age = 25"
   ]
  },
  {
   "cell_type": "code",
   "execution_count": 27,
   "metadata": {},
   "outputs": [
    {
     "name": "stdout",
     "output_type": "stream",
     "text": [
      "Hello Eric, you are 25 years old\n"
     ]
    }
   ],
   "source": [
    "print(f'Hello {name}, you are {age} years old')"
   ]
  },
  {
   "cell_type": "code",
   "execution_count": null,
   "metadata": {},
   "outputs": [],
   "source": []
  }
 ],
 "metadata": {
  "kernelspec": {
   "display_name": "Python 3",
   "language": "python",
   "name": "python3"
  },
  "language_info": {
   "codemirror_mode": {
    "name": "ipython",
    "version": 3
   },
   "file_extension": ".py",
   "mimetype": "text/x-python",
   "name": "python",
   "nbconvert_exporter": "python",
   "pygments_lexer": "ipython3",
   "version": "3.8.5"
  }
 },
 "nbformat": 4,
 "nbformat_minor": 4
}
