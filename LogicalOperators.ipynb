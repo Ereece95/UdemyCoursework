{
 "cells": [
  {
   "cell_type": "markdown",
   "metadata": {},
   "source": [
    "Eric Reece\n",
    "3-3-2021\n",
    "*** Logical Operators ***\n",
    "\n",
    "**Allow us to combine comparisons for logic and control purposes:** \n",
    "* 'and' - checks to see if both the left and right comparisons are true, if so, returns true.\n",
    "* 'or'  - checks to see if at least one side is true\n",
    "* 'not' - checks to see if a comparison is false, if so, proceeds. In other words, it gets back    to opposite boolean of the comparison. Useful for control flow, increasing readibility."
   ]
  },
  {
   "cell_type": "code",
   "execution_count": 3,
   "metadata": {},
   "outputs": [
    {
     "name": "stdout",
     "output_type": "stream",
     "text": [
      "Testing 'and' for True\n"
     ]
    }
   ],
   "source": [
    "# Using the 'and' keyword - both sides must be true for this to return true\n",
    "if 'h' == 'h' and 3 == 3:\n",
    "    print(\"Testing 'and' for True\")\n",
    "else:\n",
    "    print(\"Testing 'and' for False\")"
   ]
  },
  {
   "cell_type": "code",
   "execution_count": 5,
   "metadata": {},
   "outputs": [
    {
     "name": "stdout",
     "output_type": "stream",
     "text": [
      "Testing 'or' False\n"
     ]
    }
   ],
   "source": [
    "# Using 'or' keyword - only one side must be true for this to return true\n",
    "if 2 == 3 or 1 == 3:\n",
    "    print(\"Testing 'or' True\")\n",
    "else:\n",
    "    print(\"Testing 'or' False\")"
   ]
  },
  {
   "cell_type": "code",
   "execution_count": 8,
   "metadata": {},
   "outputs": [
    {
     "name": "stdout",
     "output_type": "stream",
     "text": [
      "This returns True because the '==' is actually false\n"
     ]
    }
   ],
   "source": [
    "# Using 'not' keyword - returns the opposite boolean of a value\n",
    "if not 3 == 4:\n",
    "    print(\"This returns True because the '==' is actually false\")"
   ]
  },
  {
   "cell_type": "code",
   "execution_count": 9,
   "metadata": {},
   "outputs": [
    {
     "data": {
      "text/plain": [
       "False"
      ]
     },
     "execution_count": 9,
     "metadata": {},
     "output_type": "execute_result"
    }
   ],
   "source": [
    "30 > 50"
   ]
  },
  {
   "cell_type": "code",
   "execution_count": 10,
   "metadata": {},
   "outputs": [
    {
     "data": {
      "text/plain": [
       "True"
      ]
     },
     "execution_count": 10,
     "metadata": {},
     "output_type": "execute_result"
    }
   ],
   "source": [
    "not 30 > 50"
   ]
  },
  {
   "cell_type": "code",
   "execution_count": null,
   "metadata": {},
   "outputs": [],
   "source": []
  }
 ],
 "metadata": {
  "kernelspec": {
   "display_name": "Python 3",
   "language": "python",
   "name": "python3"
  },
  "language_info": {
   "codemirror_mode": {
    "name": "ipython",
    "version": 3
   },
   "file_extension": ".py",
   "mimetype": "text/x-python",
   "name": "python",
   "nbconvert_exporter": "python",
   "pygments_lexer": "ipython3",
   "version": "3.8.5"
  }
 },
 "nbformat": 4,
 "nbformat_minor": 4
}
